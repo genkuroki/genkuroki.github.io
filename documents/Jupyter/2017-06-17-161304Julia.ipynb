{
 "cells": [
  {
   "cell_type": "code",
   "execution_count": 2,
   "metadata": {
    "collapsed": false,
    "scrolled": true
   },
   "outputs": [
    {
     "name": "stdout",
     "output_type": "stream",
     "text": [
      "38 required packages:\n",
      " - Bio                           0.4.7\n",
      " - Bokeh                         0.2.0\n",
      " - Clp                           0.3.0\n",
      " - Combinatorics                 0.3.2\n",
      " - Compose                       0.4.5\n",
      " - Convex                        0.4.0\n",
      " - DataFrames                    0.8.4              30aae2a6 (dirty)\n",
      " - DifferentialEquations         1.8.0\n",
      " - Distributions                 0.12.1\n",
      " - ECOS                          0.7.0\n",
      " - GLPK                          0.4.0\n",
      " - GR                            0.19.0\n",
      " - Gadfly                        0.5.3\n",
      " - Graphs                        0.7.1\n",
      " - IJulia                        1.4.1\n",
      " - Interact                      0.4.3\n",
      " - Ipopt                         0.2.6\n",
      " - JSON                          0.8.3\n",
      " - JuMP                          0.16.0\n",
      " - Mocha                         0.2.0              add793ae ("
     ]
    },
    {
     "name": "stdout",
     "output_type": "stream",
     "text": [
      "dirty)\n",
      " - Nemo                          0.5.1\n",
      " - Optim                         0.7.7\n",
      " - ParallelAccelerator           0.2.2\n",
      " - PlotlyJS                      0.5.2\n",
      " - Plots                         0.10.3\n",
      " - PyCall                        1.10.0\n",
      " - PyPlot                        2.3.1\n",
      " - RCall                         0.6.4\n",
      " - RDatasets                     0.2.0\n",
      " - SCS                           0.3.1\n",
      " - ScikitLearn                   0.2.4\n",
      " - StatsBase                     0.13.1\n",
      " - SymPy                         0.5.0\n",
      " - TaylorSeries                  0.4.0\n",
      " - UnicodePlots                  0.2.3\n",
      " - Vega                          0.6.8\n",
      " - Winston                       0.12.1\n",
      " - XGBoost                       0.2.0\n",
      "136 additional packages:\n",
      " - AlgebraicDiffEq               0.1.0\n",
      " - AutoHashEquals                0.1.1\n",
      " - AxisAlgorithms                0.1.6\n",
      " - BGZFStreams                   0.1.3\n",
      " - BaseTestNext                  0.2.2\n",
      " - BinDeps                       0.4.7\n",
      " - Blink                         0.5.1\n",
      " - Blosc                         0.2.0\n",
      " - BufferedStreams               0.3.0\n",
      " - Cairo                         0.2.35\n",
      " - Calculus                      0.2.1\n",
      " - CategoricalArrays             0.1.2\n",
      " - Cbc                           0.3.0\n",
      " - ChunkedArrays                 0.1.1\n",
      " - Codecs                        0.3.0\n",
      " - ColorBrewer                   0.3.0\n",
      " - ColorTypes                    0.3.4\n",
      " - Colors                        0.7.3\n",
      " - Compat                        0.20.0\n",
      " - CompilerTools                 0.2.1\n",
      " - Conda                         0.5.1\n",
      " - Contour                       0.2.0\n",
      " - DataArrays                    0.3.12\n",
      " - DataStructures                0.5.3\n",
      " - Dates                         0.4.4\n",
      " - DelayDiffEq                   0.1.0\n",
      " - DiffBase                      0.0.4\n",
      " - DiffEqBase                    0.11.0\n",
      " - DiffEqBiological              0.0.1\n",
      " - DiffEqCallbacks               0.0.1\n",
      " - DiffEqDevTools                0.6.0\n",
      " - DiffEqFinancial               0.0.1\n",
      " - DiffEqJump                    0.1.0\n",
      " - DiffEqMonteCarlo              0.0.1\n",
      " - DiffEqPDEBase                 0.0.3\n",
      " - DiffEqParamEstim              0.1.0\n",
      " - DiffEqSensitivity             0.0.4\n",
      " - Distances                     0.4.1\n",
      " - DocOpt                        0.2.1\n",
      " - DocStringExtensions           0.3.1\n",
      " - DualNumbers                   0.3.0\n",
      " - EllipsisNotation              0.0.2\n",
      " - EzXML                         0.4.3\n",
      " - FactCheck                     0.4.3\n",
      " - FileIO                        0.3.0\n",
      " - FiniteElementDiffEq           0.2.1\n",
      " - FixedPointNumbers             0.3.4\n",
      " - FixedSizeArrays               0.2.5\n",
      " - ForwardDiff                   0.3.4\n",
      " - FunctionalCollections         0.3.1\n",
      " - GZip                          0.2.20\n",
      " - GenericSVD                    0.0.2\n",
      " - Graphics                      0.1.4\n",
      " - HDF5                          0.7.3\n",
      " - Hexagons                      0.0.4\n",
      " - Hiccup                        0.1.1\n",
      " - HttpCommon                    0.2.6\n",
      " - HttpParser                    0.2.0\n",
      " - HttpServer                    0.1.7\n",
      " - IndexableBitVectors           0.1.1\n",
      " - IniFile                       0.2.5\n",
      " - InplaceOps                    0.1.0\n",
      " - Interpolations                0.3.8\n",
      " - IntervalTrees                 0.1.0\n",
      " - IterativeSolvers              0.2.2              4558f41f (dirty)\n",
      " - Iterators                     0.3.0\n",
      " - JLD                           0.6.9\n",
      " - Juno                          0.2.7\n",
      " - KernelDensity                 0.3.2\n",
      " - LaTeXStrings                  0.2.0\n",
      " - Lazy                          0.11.5\n",
      " - LearnBase                     0.1.2\n",
      " - LegacyStrings                 0.2.0\n",
      " - Libz                          0.2.4\n",
      " - LightGraphs                   0.7.3\n",
      " - LightXML                      0.4.0\n",
      " - LineSearches                  0.1.5\n",
      " - Loess                         0.1.0\n",
      " - Logging                       0.3.1\n",
      " - LossFunctions                 0.0.3\n",
      " - LsqFit                        0.2.0\n",
      " - MacroTools                    0.3.6\n",
      " - MathProgBase                  0.6.1\n",
      " - MbedTLS                       0.4.3\n",
      " - Measures                      0.0.3\n",
      " - Media                         0.2.5\n",
      " - MultiScaleArrays              0.1.0\n",
      " - Mustache                      0.1.3\n",
      " - Mux                           0.2.3\n",
      " - NLsolve                       0.9.1\n",
      " - NaNMath                       0.2.2\n",
      " - Nettle                        0.3.0\n",
      " - NoveltyColors                 0.3.0\n",
      " - NullableArrays                0.1.0\n",
      " - OrdinaryDiffEq                1.4.1\n",
      " - PDMats                        0.5.6\n",
      " - ParameterizedFunctions        1.0.0\n",
      " - Parameters                    0.6.0\n",
      " - ParserCombinator              1.7.11\n",
      " - Patchwork                     0.3.0\n",
      " - PlotThemes                    0.1.1\n",
      " - PlotUtils                     0.3.0\n",
      " - PolynomialFactors             0.0.3\n",
      " - Polynomials                   0.1.3\n",
      " - PositiveFactorizations        0.0.4\n",
      " - Primes                        0.1.2\n",
      " - QuadGK                        0.1.1\n",
      " - RData                         0.0.4              dbb27b8d (dirty)\n",
      " - Ranges                        0.0.1\n",
      " - Ratios                        0.0.4\n",
      " - Reactive                      0.3.7\n",
      " - RecipesBase                   0.1.0\n",
      " - RecursiveArrayTools           0.2.0\n",
      " - Reexport                      0.0.3\n",
      " - Requires                      0.3.0\n",
      " - ResettableStacks              0.1.0\n",
      " - ReverseDiffSparse             0.7.1\n",
      " - Rmath                         0.1.6\n",
      " - Roots                         0.3.0\n",
      " - SHA                           0.3.2\n",
      " - ScikitLearnBase               0.2.2\n",
      " - Showoff                       0.0.7\n",
      " - SimpleTraits                  0.3.0\n",
      " - SortingAlgorithms             0.1.0\n",
      " - SpecialFunctions              0.1.1\n",
      " - StatsFuns                     0.4.0\n",
      " - StochasticDiffEq              1.1.0\n",
      " - StokesDiffEq                  0.1.0\n",
      " - Sundials                      0.7.0\n",
      " - SymEngine                     0.1.3\n",
      " - Tk                            0.4.0\n",
      " - URIParser                     0.1.8\n",
      " - VectorizedRoutines            0.0.2\n",
      " - WebSockets                    0.2.1\n",
      " - WoodburyMatrices              0.2.2\n",
      " - ZMQ                           0.4.1\n"
     ]
    }
   ],
   "source": [
    "Pkg.status()"
   ]
  },
  {
   "cell_type": "code",
   "execution_count": 3,
   "metadata": {
    "collapsed": false
   },
   "outputs": [
   ],
   "source": [
    "using PyPlot"
   ]
  },
  {
   "cell_type": "code",
   "execution_count": 4,
   "metadata": {
    "collapsed": false
   },
   "outputs": [
   ],
   "source": [
    "using SymPy"
   ]
  },
  {
   "cell_type": "code",
   "execution_count": 5,
   "metadata": {
    "collapsed": false
   },
   "outputs": [
    {
     "data": {
      "text/plain": [
       "(x,y,z)"
      ]
     },
     "execution_count": 5,
     "metadata": {
     },
     "output_type": "execute_result"
    }
   ],
   "source": [
    "@vars x y z"
   ]
  },
  {
   "cell_type": "code",
   "execution_count": 6,
   "metadata": {
    "collapsed": false
   },
   "outputs": [
    {
     "data": {
      "text/latex": [
       "$$x^{2} - y^{2} - 1$$"
      ]
     },
     "execution_count": 6,
     "metadata": {
     },
     "output_type": "execute_result"
    }
   ],
   "source": [
    "f=x^2-y^2-1"
   ]
  },
  {
   "cell_type": "code",
   "execution_count": 7,
   "metadata": {
    "collapsed": false
   },
   "outputs": [
    {
     "data": {
      "text/latex": [
       "$$x^{2} - y^{2} - 1$$"
      ]
     },
     "execution_count": 7,
     "metadata": {
     },
     "output_type": "execute_result"
    }
   ],
   "source": [
    "display(f)"
   ]
  },
  {
   "cell_type": "code",
   "execution_count": 9,
   "metadata": {
    "collapsed": false
   },
   "outputs": [
    {
     "data": {
      "image/png": "[encoded data removed]"
     }
    },
    {
     "data": {
      "text/plain": [
       "PyObject <sympy.plotting.plot.Plot object at 0x7fa78a946e50>"
      ]
     },
     "execution_count": 9,
     "metadata": {
     },
     "output_type": "execute_result"
    }
   ],
   "source": [
    "plot_implicit(f,(x,-2,2),(y,-2,2))"
   ]
  },
  {
   "cell_type": "code",
   "execution_count": 8,
   "metadata": {
    "collapsed": false
   },
   "outputs": [
    {
     "data": {
      "text/plain": [
       "v\"0.5.0\""
      ]
     },
     "execution_count": 8,
     "metadata": {
     },
     "output_type": "execute_result"
    }
   ],
   "source": [
    "VERSION"
   ]
  },
  {
   "cell_type": "code",
   "execution_count": 1,
   "metadata": {
    "collapsed": false
   },
   "outputs": [
    {
     "data": {
      "text/latex": [
       "$$x^{3} \\left(x^{2} - 100\\right) \\left(x^{2} - 81\\right) \\left(x^{2} - 64\\right) \\left(x^{2} - 49\\right) \\left(x^{2} - 36\\right) \\left(x^{2} - 25\\right) \\left(x^{2} - 16\\right) \\left(x^{2} - 9\\right) \\left(x^{2} - 4\\right) \\left(x^{2} - 1\\right) - 5 y^{3} \\left(y^{2} - 100\\right) \\left(y^{2} - 81\\right) \\left(y^{2} - 64\\right) \\left(y^{2} - 49\\right) \\left(y^{2} - 36\\right) \\left(y^{2} - 25\\right) \\left(y^{2} - 16\\right) \\left(y^{2} - 9\\right) \\left(y^{2} - 4\\right) \\left(y^{2} - 1\\right)$$"
      ]
     },
     "execution_count": 1,
     "metadata": {
     },
     "output_type": "execute_result"
    },
    {
     "data": {
      "image/png": "[encoded data removed]"
     }
    },
    {
     "data": {
      "text/plain": [
       "PyObject <sympy.plotting.plot.Plot object at 0x7fa78e4826d0>"
      ]
     },
     "execution_count": 1,
     "metadata": {
     },
     "output_type": "execute_result"
    }
   ],
   "source": [
    "using PyPlot\n",
    "using SymPy\n",
    "\n",
    "@vars x y\n",
    "n=10\n",
    "r=n+2\n",
    "phi=x*prod([x^2-i^2 for i in 0:n])\n",
    "phi-=5*subs(phi,x,y)\n",
    "display(phi)\n",
    "plot_implicit(phi, (x,-r,r),(y,-r,r))"
   ]
  },
  {
   "cell_type": "code",
   "execution_count": 0,
   "metadata": {
    "collapsed": false
   },
   "outputs": [
   ],
   "source": [
   ]
  }
 ],
 "metadata": {
  "kernelspec": {
   "display_name": "Julia",
   "language": "julia",
   "name": "julia"
  }
 },
 "nbformat": 4,
 "nbformat_minor": 0
}